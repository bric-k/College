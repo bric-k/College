{
 "cells": [
  {
   "cell_type": "code",
   "execution_count": 1,
   "metadata": {},
   "outputs": [],
   "source": [
    "import random\n",
    "import numpy as np\n",
    "\n",
    "student_names = ['A', 'B', 'C', 'D', 'E']\n",
    "\n",
    "student_marks = {name: random.randint(0, 100) for name in student_names}"
   ]
  },
  {
   "cell_type": "code",
   "execution_count": 2,
   "metadata": {},
   "outputs": [
    {
     "name": "stdout",
     "output_type": "stream",
     "text": [
      "A: Distinction\n",
      "B: Fail\n",
      "C: First Class\n",
      "D: Pass\n",
      "E: Pass\n"
     ]
    }
   ],
   "source": [
    "for student, marks in student_marks.items():\n",
    "    if marks >= 70:\n",
    "        print(f\"{student}: Distinction\")\n",
    "    elif 60 <= marks <= 69:\n",
    "        print(f\"{student}: First Class\")\n",
    "    elif 50 <= marks <= 59:\n",
    "        print(f\"{student}: Second Class\")\n",
    "    elif 40 <= marks <= 49:\n",
    "        print(f\"{student}: Pass\")\n",
    "    else:\n",
    "        print(f\"{student}: Fail\")\n",
    "\n",
    "\n"
   ]
  },
  {
   "cell_type": "code",
   "execution_count": 3,
   "metadata": {},
   "outputs": [
    {
     "name": "stdout",
     "output_type": "stream",
     "text": [
      "1D Array from 0 to 9: [0 1 2 3 4 5 6 7 8 9]\n",
      "Even integers from 30 to 70: [30 32 34 36 38 40 42 44 46 48 50 52 54 56 58 60 62 64 66 68 70]\n",
      "3x4 Matrix filled with values from 10 to 21:\n",
      "[[10 11 12 13]\n",
      " [14 15 16 17]\n",
      " [18 19 20 21]]\n",
      "Sum of all elements: 186\n",
      "Sum of each column: [42 45 48 51]\n",
      "Sum of each row: [46 62 78]\n"
     ]
    },
    {
     "ename": "",
     "evalue": "",
     "output_type": "error",
     "traceback": [
      "\u001b[1;31mThe Kernel crashed while executing code in the current cell or a previous cell. \n",
      "\u001b[1;31mPlease review the code in the cell(s) to identify a possible cause of the failure. \n",
      "\u001b[1;31mClick <a href='https://aka.ms/vscodeJupyterKernelCrash'>here</a> for more info. \n",
      "\u001b[1;31mView Jupyter <a href='command:jupyter.viewOutput'>log</a> for further details."
     ]
    }
   ],
   "source": [
    "arr_1d = np.arange(10)\n",
    "print(\"1D Array from 0 to 9:\", arr_1d)\n",
    "\n",
    "arr_even = np.arange(30, 71, 2)\n",
    "print(\"Even integers from 30 to 70:\", arr_even)\n",
    "\n",
    "matrix = np.arange(10, 22).reshape(3, 4)\n",
    "print(\"3x4 Matrix filled with values from 10 to 21:\")\n",
    "print(matrix)\n",
    "\n",
    "print(\"Sum of all elements:\", np.sum(matrix))\n",
    "print(\"Sum of each column:\", np.sum(matrix, axis=0))\n",
    "print(\"Sum of each row:\", np.sum(matrix, axis=1))\n"
   ]
  }
 ],
 "metadata": {
  "kernelspec": {
   "display_name": "Python 3",
   "language": "python",
   "name": "python3"
  },
  "language_info": {
   "codemirror_mode": {
    "name": "ipython",
    "version": 3
   },
   "file_extension": ".py",
   "mimetype": "text/x-python",
   "name": "python",
   "nbconvert_exporter": "python",
   "pygments_lexer": "ipython3",
   "version": "3.12.3"
  }
 },
 "nbformat": 4,
 "nbformat_minor": 2
}

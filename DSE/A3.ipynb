{
 "cells": [
  {
   "cell_type": "code",
   "execution_count": 2,
   "metadata": {},
   "outputs": [],
   "source": [
    "import numpy as np\n",
    "import pandas as pd\n",
    "\n",
    "df = pd.read_csv('https://raw.githubusercontent.com/selva86/datasets/master/Cars93_miss.csv')"
   ]
  },
  {
   "cell_type": "code",
   "execution_count": 3,
   "metadata": {},
   "outputs": [
    {
     "name": "stdout",
     "output_type": "stream",
     "text": [
      "  Manufacturer    Model     Type  Min.Price  Price  Max.Price  MPG.city  \\\n",
      "0        Acura  Integra    Small       12.9   15.9       18.8      25.0   \n",
      "1          NaN   Legend  Midsize       29.2   33.9       38.7      18.0   \n",
      "2         Audi       90  Compact       25.9   29.1       32.3      20.0   \n",
      "3         Audi      100  Midsize        NaN   37.7       44.6      19.0   \n",
      "4          BMW     535i  Midsize        NaN   30.0        NaN      22.0   \n",
      "\n",
      "   MPG.highway             AirBags DriveTrain  ... Passengers  Length  \\\n",
      "0         31.0                 NaN      Front  ...        5.0   177.0   \n",
      "1         25.0  Driver & Passenger      Front  ...        5.0   195.0   \n",
      "2         26.0         Driver only      Front  ...        5.0   180.0   \n",
      "3         26.0  Driver & Passenger        NaN  ...        6.0   193.0   \n",
      "4         30.0                 NaN       Rear  ...        4.0   186.0   \n",
      "\n",
      "   Wheelbase  Width  Turn.circle Rear.seat.room  Luggage.room  Weight  \\\n",
      "0      102.0   68.0         37.0           26.5           NaN  2705.0   \n",
      "1      115.0   71.0         38.0           30.0          15.0  3560.0   \n",
      "2      102.0   67.0         37.0           28.0          14.0  3375.0   \n",
      "3      106.0    NaN         37.0           31.0          17.0  3405.0   \n",
      "4      109.0   69.0         39.0           27.0          13.0  3640.0   \n",
      "\n",
      "    Origin           Make  \n",
      "0  non-USA  Acura Integra  \n",
      "1  non-USA   Acura Legend  \n",
      "2  non-USA        Audi 90  \n",
      "3  non-USA       Audi 100  \n",
      "4  non-USA       BMW 535i  \n",
      "\n",
      "[5 rows x 27 columns]\n"
     ]
    }
   ],
   "source": [
    "# q1\n",
    "print (df.head())"
   ]
  },
  {
   "cell_type": "code",
   "execution_count": 4,
   "metadata": {},
   "outputs": [
    {
     "name": "stdout",
     "output_type": "stream",
     "text": [
      "Manufacturer           4\n",
      "Model                  1\n",
      "Type                   3\n",
      "Min.Price              7\n",
      "Price                  2\n",
      "Max.Price              5\n",
      "MPG.city               9\n",
      "MPG.highway            2\n",
      "AirBags               38\n",
      "DriveTrain             7\n",
      "Cylinders              5\n",
      "EngineSize             2\n",
      "Horsepower             7\n",
      "RPM                    3\n",
      "Rev.per.mile           6\n",
      "Man.trans.avail        5\n",
      "Fuel.tank.capacity     8\n",
      "Passengers             2\n",
      "Length                 4\n",
      "Wheelbase              1\n",
      "Width                  6\n",
      "Turn.circle            5\n",
      "Rear.seat.room         4\n",
      "Luggage.room          19\n",
      "Weight                 7\n",
      "Origin                 5\n",
      "Make                   3\n",
      "dtype: int64\n"
     ]
    }
   ],
   "source": [
    "# q2\n",
    "print(df.isnull().sum())"
   ]
  },
  {
   "cell_type": "code",
   "execution_count": 9,
   "metadata": {},
   "outputs": [
    {
     "data": {
      "text/plain": [
       "(8, 27)"
      ]
     },
     "execution_count": 9,
     "metadata": {},
     "output_type": "execute_result"
    }
   ],
   "source": [
    "# q3\n",
    "df_dropna = df.dropna()\n",
    "df_dropna.shape"
   ]
  },
  {
   "cell_type": "code",
   "execution_count": 10,
   "metadata": {},
   "outputs": [],
   "source": [
    "#imputation\n",
    "from sklearn.impute import SimpleImputer\n",
    "\n",
    "# Impute the missing values with mean\n",
    "imputer = SimpleImputer(strategy='mean')\n",
    "df_mean_imputed = pd.DataFrame(imputer.fit_transform(df.select_dtypes(include=['float64', 'int64'])), columns=df.select_dtypes(include=['float64', 'int64']).columns)\n",
    "\n",
    "# Impute the missing values with median\n",
    "imputer = SimpleImputer(strategy='median')\n",
    "df_median_imputed = pd.DataFrame(imputer.fit_transform(df.select_dtypes(include=['float64', 'int64'])), columns=df.select_dtypes(include=['float64', 'int64']).columns)\n"
   ]
  },
  {
   "cell_type": "code",
   "execution_count": 11,
   "metadata": {},
   "outputs": [
    {
     "name": "stdout",
     "output_type": "stream",
     "text": [
      "    Min.Price  Price  Max.Price  MPG.city  MPG.highway  EngineSize  \\\n",
      "0   12.900000   15.9  18.800000      25.0         31.0    1.800000   \n",
      "1   29.200000   33.9  38.700000      18.0         25.0    3.200000   \n",
      "2   25.900000   29.1  32.300000      20.0         26.0    2.800000   \n",
      "3   17.118605   37.7  44.600000      19.0         26.0    2.658242   \n",
      "4   17.118605   30.0  21.459091      22.0         30.0    3.500000   \n",
      "..        ...    ...        ...       ...          ...         ...   \n",
      "88  16.600000   19.7  22.700000      17.0         21.0    2.500000   \n",
      "89  17.600000   20.0  22.400000      21.0         30.0    2.000000   \n",
      "90  22.900000   23.3  23.700000      18.0         25.0    2.800000   \n",
      "91  21.800000   22.7  23.500000      21.0         28.0    2.300000   \n",
      "92  24.800000   26.7  28.500000      20.0         28.0    2.400000   \n",
      "\n",
      "    Horsepower     RPM  Rev.per.mile  Fuel.tank.capacity  Passengers  Length  \\\n",
      "0        140.0  6300.0        2890.0                13.2         5.0   177.0   \n",
      "1        200.0  5500.0        2335.0                18.0         5.0   195.0   \n",
      "2        172.0  5500.0        2280.0                16.9         5.0   180.0   \n",
      "3        172.0  5500.0        2535.0                21.1         6.0   193.0   \n",
      "4        208.0  5700.0        2545.0                21.1         4.0   186.0   \n",
      "..         ...     ...           ...                 ...         ...     ...   \n",
      "88       109.0  4500.0        2915.0                21.1         7.0   187.0   \n",
      "89       134.0  5800.0        2685.0                18.5         5.0   180.0   \n",
      "90       178.0  5800.0        2385.0                18.5         4.0   159.0   \n",
      "91       114.0  5400.0        2215.0                15.8         5.0   190.0   \n",
      "92       168.0  6200.0        2355.0                19.3         5.0   184.0   \n",
      "\n",
      "    Wheelbase      Width  Turn.circle  Rear.seat.room  Luggage.room  Weight  \n",
      "0       102.0  68.000000         37.0            26.5     13.986486  2705.0  \n",
      "1       115.0  71.000000         38.0            30.0     15.000000  3560.0  \n",
      "2       102.0  67.000000         37.0            28.0     14.000000  3375.0  \n",
      "3       106.0  69.448276         37.0            31.0     17.000000  3405.0  \n",
      "4       109.0  69.000000         39.0            27.0     13.000000  3640.0  \n",
      "..        ...        ...          ...             ...           ...     ...  \n",
      "88      115.0  72.000000         38.0            34.0     13.986486  3960.0  \n",
      "89      103.0  67.000000         35.0            31.5     14.000000  2985.0  \n",
      "90       97.0  66.000000         36.0            26.0     15.000000  2810.0  \n",
      "91      104.0  67.000000         37.0            29.5     14.000000  2985.0  \n",
      "92      105.0  69.000000         38.0            30.0     15.000000  3245.0  \n",
      "\n",
      "[93 rows x 18 columns]\n"
     ]
    }
   ],
   "source": [
    "print(df_mean_imputed)"
   ]
  },
  {
   "cell_type": "code",
   "execution_count": 12,
   "metadata": {},
   "outputs": [
    {
     "name": "stdout",
     "output_type": "stream",
     "text": [
      "    Min.Price  Price  Max.Price  MPG.city  MPG.highway  EngineSize  \\\n",
      "0        12.9   15.9      18.80      25.0         31.0         1.8   \n",
      "1        29.2   33.9      38.70      18.0         25.0         3.2   \n",
      "2        25.9   29.1      32.30      20.0         26.0         2.8   \n",
      "3        14.6   37.7      44.60      19.0         26.0         2.3   \n",
      "4        14.6   30.0      19.15      22.0         30.0         3.5   \n",
      "..        ...    ...        ...       ...          ...         ...   \n",
      "88       16.6   19.7      22.70      17.0         21.0         2.5   \n",
      "89       17.6   20.0      22.40      21.0         30.0         2.0   \n",
      "90       22.9   23.3      23.70      18.0         25.0         2.8   \n",
      "91       21.8   22.7      23.50      21.0         28.0         2.3   \n",
      "92       24.8   26.7      28.50      20.0         28.0         2.4   \n",
      "\n",
      "    Horsepower     RPM  Rev.per.mile  Fuel.tank.capacity  Passengers  Length  \\\n",
      "0        140.0  6300.0        2890.0                13.2         5.0   177.0   \n",
      "1        200.0  5500.0        2335.0                18.0         5.0   195.0   \n",
      "2        172.0  5500.0        2280.0                16.9         5.0   180.0   \n",
      "3        172.0  5500.0        2535.0                21.1         6.0   193.0   \n",
      "4        208.0  5700.0        2545.0                21.1         4.0   186.0   \n",
      "..         ...     ...           ...                 ...         ...     ...   \n",
      "88       109.0  4500.0        2915.0                21.1         7.0   187.0   \n",
      "89       134.0  5800.0        2685.0                18.5         5.0   180.0   \n",
      "90       178.0  5800.0        2385.0                18.5         4.0   159.0   \n",
      "91       114.0  5400.0        2215.0                15.8         5.0   190.0   \n",
      "92       168.0  6200.0        2360.0                19.3         5.0   184.0   \n",
      "\n",
      "    Wheelbase  Width  Turn.circle  Rear.seat.room  Luggage.room  Weight  \n",
      "0       102.0   68.0         37.0            26.5          14.0  2705.0  \n",
      "1       115.0   71.0         38.0            30.0          15.0  3560.0  \n",
      "2       102.0   67.0         37.0            28.0          14.0  3375.0  \n",
      "3       106.0   69.0         37.0            31.0          17.0  3405.0  \n",
      "4       109.0   69.0         39.0            27.0          13.0  3640.0  \n",
      "..        ...    ...          ...             ...           ...     ...  \n",
      "88      115.0   72.0         38.0            34.0          14.0  3960.0  \n",
      "89      103.0   67.0         35.0            31.5          14.0  2985.0  \n",
      "90       97.0   66.0         36.0            26.0          15.0  2810.0  \n",
      "91      104.0   67.0         37.0            29.5          14.0  2985.0  \n",
      "92      105.0   69.0         38.0            30.0          15.0  3245.0  \n",
      "\n",
      "[93 rows x 18 columns]\n"
     ]
    }
   ],
   "source": [
    "print(df_median_imputed)"
   ]
  },
  {
   "cell_type": "code",
   "execution_count": 15,
   "metadata": {},
   "outputs": [
    {
     "name": "stdout",
     "output_type": "stream",
     "text": [
      "     Manufacturer Model     Type  Price\n",
      "58  Mercedes-Benz  300E  Midsize   61.9\n"
     ]
    }
   ],
   "source": [
    "# Find the manufacturer, model and type with the highest Price\n",
    "most_expensive_car = df[df['Price'] == df['Price'].max()][['Manufacturer', 'Model', 'Type', 'Price']]\n",
    "\n",
    "print(most_expensive_car)"
   ]
  },
  {
   "cell_type": "code",
   "execution_count": 19,
   "metadata": {},
   "outputs": [
    {
     "name": "stdout",
     "output_type": "stream",
     "text": [
      "Number of rows: 506\n",
      "Number of columns: 2\n",
      "crim    float64\n",
      "medv    float64\n",
      "dtype: object\n",
      "             crim        medv\n",
      "count  506.000000  506.000000\n",
      "mean     3.613524   22.532806\n",
      "std      8.601545    9.197104\n",
      "min      0.006320    5.000000\n",
      "25%      0.082045   17.025000\n",
      "50%      0.256510   21.200000\n",
      "75%      3.677083   25.000000\n",
      "max     88.976200   50.000000\n"
     ]
    }
   ],
   "source": [
    "#Boston\n",
    "\n",
    "url = 'https://raw.githubusercontent.com/selva86/datasets/master/BostonHousing.csv'\n",
    "df = pd.read_csv(url)\n",
    "\n",
    "# Select the 'CRIM' and 'MEDV' columns\n",
    "df = df[['crim', 'medv']]\n",
    "\n",
    "# Print the number of rows and columns\n",
    "print(f'Number of rows: {df.shape[0]}')\n",
    "print(f'Number of columns: {df.shape[1]}')\n",
    "\n",
    "# Print the data types of the columns\n",
    "print(df.dtypes)\n",
    "\n",
    "# Print the summary statistics of each column\n",
    "print(df.describe())\n"
   ]
  },
  {
   "cell_type": "code",
   "execution_count": 22,
   "metadata": {},
   "outputs": [
    {
     "name": "stdout",
     "output_type": "stream",
     "text": [
      "   A  B      a      b      d\n",
      "0  a  b   True  False  False\n",
      "1  b  a  False   True  False\n",
      "2  a  c   True  False  False\n",
      "3  d  e  False  False   True\n"
     ]
    }
   ],
   "source": [
    "#q6\n",
    "\n",
    "df4 = pd.DataFrame({\n",
    "    'A': ['a', 'b', 'a', 'd'], \n",
    "    'B': ['b', 'a', 'c', 'e']\n",
    "})\n",
    "\n",
    "one_hot = pd.get_dummies(df4['A'])\n",
    "\n",
    "df5 = df4.join(one_hot)\n",
    "\n",
    "print(df5)\n"
   ]
  }
 ],
 "metadata": {
  "kernelspec": {
   "display_name": "Python 3",
   "language": "python",
   "name": "python3"
  },
  "language_info": {
   "codemirror_mode": {
    "name": "ipython",
    "version": 3
   },
   "file_extension": ".py",
   "mimetype": "text/x-python",
   "name": "python",
   "nbconvert_exporter": "python",
   "pygments_lexer": "ipython3",
   "version": "3.12.3"
  }
 },
 "nbformat": 4,
 "nbformat_minor": 2
}

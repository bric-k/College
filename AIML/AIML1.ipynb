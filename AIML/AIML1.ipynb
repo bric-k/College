{
 "cells": [
  {
   "cell_type": "code",
   "execution_count": 42,
   "metadata": {},
   "outputs": [],
   "source": [
    "#Siddharth Bhagwat_53\n",
    "import numpy, random\n",
    "lr =1 #learning rate\n",
    "bias = 1 #value of bias\n",
    "weights = [random.random(), random.random()]\n",
    "error = 1000000000"
   ]
  },
  {
   "cell_type": "code",
   "execution_count": 43,
   "metadata": {},
   "outputs": [],
   "source": [
    "def Perceptron(input1, input2, output):\n",
    "    outputP = weights[0]*input1 + weights[1]*input2\n",
    "    outputP = 1/(1+numpy.exp(-outputP))\n",
    "\n",
    "    error = output - outputP\n",
    "    weights[0] += error + input1*lr\n",
    "    weights[1] += error + input2*lr\n",
    "    #printing output\n",
    "    print(error)"
   ]
  },
  {
   "cell_type": "code",
   "execution_count": 44,
   "metadata": {},
   "outputs": [
    {
     "name": "stdout",
     "output_type": "stream",
     "text": [
      "0.15599638269541294\n",
      "0.10480378652836331\n",
      "0.12344892262898499\n",
      "-0.5\n",
      "0.004248963699184816\n",
      "0.020283515870606283\n",
      "0.026386834010855953\n",
      "-0.5\n",
      "0.00019183927806432077\n",
      "0.004388730488902648\n",
      "0.005828695599289557\n",
      "-0.5\n",
      "9.356037893648583e-06\n",
      "0.0009726203249063037\n",
      "0.0012976174505588967\n",
      "-0.5\n",
      "4.636949416658709e-07\n",
      "0.00021669253759681872\n",
      "0.00028939119390447576\n",
      "-0.5\n"
     ]
    }
   ],
   "source": [
    "for i in range(5):\n",
    "    \n",
    "    Perceptron(1, 1, 1)\n",
    "    Perceptron(1, 0, 1)\n",
    "    Perceptron(0, 1, 1)\n",
    "    Perceptron(0, 0, 0)"
   ]
  }
 ],
 "metadata": {
  "kernelspec": {
   "display_name": "Python 3",
   "language": "python",
   "name": "python3"
  },
  "language_info": {
   "codemirror_mode": {
    "name": "ipython",
    "version": 3
   },
   "file_extension": ".py",
   "mimetype": "text/x-python",
   "name": "python",
   "nbconvert_exporter": "python",
   "pygments_lexer": "ipython3",
   "version": "3.11.5"
  },
  "orig_nbformat": 4
 },
 "nbformat": 4,
 "nbformat_minor": 2
}

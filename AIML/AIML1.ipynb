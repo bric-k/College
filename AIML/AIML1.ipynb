{
 "cells": [
  {
   "cell_type": "code",
   "execution_count": 1,
   "metadata": {},
   "outputs": [],
   "source": [
    "#Siddharth Bhagwat_53\n",
    "import numpy, random\n",
    "lr =1 #learning rate\n",
    "bias = 1 #value of bias\n",
    "weights = [random.random(), random.random()]\n",
    "error = 1000000000"
   ]
  },
  {
   "cell_type": "code",
   "execution_count": 2,
   "metadata": {},
   "outputs": [],
   "source": [
    "def Perceptron(input1, input2, output):\n",
    "    outputP = weights[0]*input1 + weights[1]*input2\n",
    "    outputP = 1/(1+numpy.exp(-outputP))\n",
    "\n",
    "    error = output - outputP\n",
    "    weights[0] += error + input1*lr\n",
    "    weights[1] += error + input2*lr\n",
    "    #printing output\n",
    "    print(error)"
   ]
  },
  {
   "cell_type": "code",
   "execution_count": 3,
   "metadata": {},
   "outputs": [
    {
     "name": "stdout",
     "output_type": "stream",
     "text": [
      "0.2592411027173436\n",
      "0.18297490355574586\n",
      "0.09491449625987192\n",
      "-0.5\n",
      "0.005915902904617298\n",
      "0.036259309239041526\n",
      "0.01999368229344356\n",
      "-0.5\n",
      "0.00026157825190220585\n",
      "0.007871213499846541\n",
      "0.004406452462632271\n",
      "-0.5\n",
      "1.2703834808669434e-05\n",
      "0.0017455630015601464\n",
      "0.0009805323821412415\n",
      "-0.5\n",
      "6.290392509100684e-07\n",
      "0.00038895503774938334\n",
      "0.0002186534138136631\n",
      "-0.5\n"
     ]
    }
   ],
   "source": [
    "for i in range(5):\n",
    "    \n",
    "    Perceptron(1, 1, 1)\n",
    "    Perceptron(1, 0, 1)\n",
    "    Perceptron(0, 1, 1)\n",
    "    Perceptron(0, 0, 0)"
   ]
  }
 ],
 "metadata": {
  "kernelspec": {
   "display_name": "Python 3",
   "language": "python",
   "name": "python3"
  },
  "language_info": {
   "codemirror_mode": {
    "name": "ipython",
    "version": 3
   },
   "file_extension": ".py",
   "mimetype": "text/x-python",
   "name": "python",
   "nbconvert_exporter": "python",
   "pygments_lexer": "ipython3",
   "version": "3.10.12"
  },
  "orig_nbformat": 4
 },
 "nbformat": 4,
 "nbformat_minor": 2
}

{
 "cells": [
  {
   "cell_type": "code",
   "execution_count": 1,
   "metadata": {},
   "outputs": [],
   "source": [
    "import random\n",
    "class Environment(object):\n",
    "    def __init__(self): \n",
    "        self.locationcondition={'A' : '1' , 'B' :'1'}\n",
    "        self.locationcondition['A']=random.randint(0,1) \n",
    "        self.locationcondition['B']=random.randint(0,1)"
   ]
  },
  {
   "cell_type": "code",
   "execution_count": 2,
   "metadata": {},
   "outputs": [],
   "source": [
    "class Sreflexagent(Environment):\n",
    "    def __init__(self,Environment):\n",
    "        print(Environment.locationcondition) #place vacuum at random location\n",
    "        vacuumlocation=random.randint(0,1)\n",
    "        if vacuumlocation==0:\n",
    "            print(\"vacuum is randomly placed at locationn A\") \n",
    "          #and if location A is dirty\n",
    "            if Environment.locationcondition['A']==1: \n",
    "                print(\"Location A is dirty\")#suck the dirt and mark it clean \n",
    "                Environment.locationcondition['A']=0 \n",
    "                print(\"Location A has been cleaned\") \n",
    "                vacuumlocation=1\n",
    "        else:\n",
    "            print(\"Location A is clean\") #move to B\n",
    "            print(\"moving to location B\") \n",
    "            vacuumlocation=1\n",
    "            if Environment.locationcondition['B']==1: #suck the dirt and mark it clean \n",
    "                Environment.locationcondition['B']=0 \n",
    "                print(\"Location B has been cleaned\")\n",
    "            \n",
    "            elif vacuumlocation==1:\n",
    "                print(\"vacuum is randomly placed at locationn B\") #and if location B is dirty\n",
    "            else:\n",
    "                print(\"Location B is clean\") \n",
    "                  #and if location B is dirty\n",
    "            if Environment.locationcondition['B']==1: \n",
    "                print(\"Location B is dirty\")#suck the dirt and mark it clean Environment.\n",
    "                Environment.locationcondition['B']=0; \n",
    "           \n",
    "                print(\"Location B has been cleaned\")\n",
    "                print(\"moving to location A\")\n",
    "                vacuumlocation=0\n",
    "            else:\n",
    "                print(\"Location B is Clean\") #Move to A\n",
    "                print(\"moving to location A\") \n",
    "                vacuumlocation=0\n",
    "            if vacuumlocation==0:\n",
    "                if Environment.locationcondition['A']==1: \n",
    "                    print(\"Location A is dirty\")#suck the dirt and mark it clean \n",
    "                    Environment.locationcondition['A']=0; \n",
    "                    print(\"Location A has been cleaned\")\n",
    "            else:\n",
    "                print(\"Location A is Clean\")"
   ]
  },
  {
   "cell_type": "code",
   "execution_count": 3,
   "metadata": {},
   "outputs": [],
   "source": [
    "obj= Environment()\n"
   ]
  },
  {
   "cell_type": "code",
   "execution_count": 4,
   "metadata": {},
   "outputs": [
    {
     "name": "stdout",
     "output_type": "stream",
     "text": [
      "{'A': 1, 'B': 0}\n",
      "Location A is clean\n",
      "moving to location B\n",
      "vacuum is randomly placed at locationn B\n",
      "Location B is Clean\n",
      "moving to location A\n",
      "Location A is dirty\n",
      "Location A has been cleaned\n"
     ]
    }
   ],
   "source": [
    "agent=Sreflexagent(obj)\n"
   ]
  }
 ],
 "metadata": {
  "kernelspec": {
   "display_name": "Python 3",
   "language": "python",
   "name": "python3"
  },
  "language_info": {
   "codemirror_mode": {
    "name": "ipython",
    "version": 3
   },
   "file_extension": ".py",
   "mimetype": "text/x-python",
   "name": "python",
   "nbconvert_exporter": "python",
   "pygments_lexer": "ipython3",
   "version": "3.11.5"
  },
  "orig_nbformat": 4
 },
 "nbformat": 4,
 "nbformat_minor": 2
}

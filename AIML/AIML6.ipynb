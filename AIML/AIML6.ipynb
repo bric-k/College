{
 "cells": [
  {
   "cell_type": "code",
   "execution_count": 1,
   "metadata": {},
   "outputs": [],
   "source": [
    "#Siddharth Bhagwat 53\n",
    "import numpy as np"
   ]
  },
  {
   "cell_type": "code",
   "execution_count": 2,
   "metadata": {},
   "outputs": [],
   "source": [
    "#Preparing data\n",
    "x = np.array(([2, 9],[1, 5], [3,6]), dtype=float)\n",
    "y = np.array(([92], [82], [89]), dtype=float)\n",
    "\n",
    "#scaling unites\n",
    "x= x/np.amax(x, axis = 0)\n",
    "#Maximum test score = 100\n",
    "y=y/100"
   ]
  },
  {
   "cell_type": "code",
   "execution_count": 3,
   "metadata": {},
   "outputs": [],
   "source": [
    "#Neural Netwrok class\n",
    "class NeuralNetwork(object):\n",
    "    def __init__(self):\n",
    "        \n",
    "        #parameters\n",
    "        self.inputSize = 2\n",
    "        self.outputSize = 1\n",
    "        self.hiddenSize = 3\n",
    "        \n",
    "        self.W1 = np.random.randn(self.inputSize, self.hiddenSize)\n",
    "        self.W2 = np.random.randn(self.hiddenSize, self.outputSize)\n",
    "        \n",
    "    def feedForward(self, X):\n",
    "        self.z = np.dot(X, self.W1)\n",
    "        self.z2 = self.sigmoid(self.z)\n",
    "        self.z3 = np.dot(self.z2,self.W2)\n",
    "        output = self.sigmoid(self.z3)\n",
    "        return output\n",
    "    \n",
    "    def sigmoid (self, s, deriv=False):\n",
    "        if deriv:\n",
    "            return s * (1-s)\n",
    "        return 1/(1+np.exp(-s))\n",
    "    \n",
    "    def backward (self, X, y, output):\n",
    "        self.output_error = y - output\n",
    "        self.output_delta = self.output_error * self.sigmoid(output, deriv=True)\n",
    "        self.z2_error = self.output_delta.dot(self.W2.T)\n",
    "        self.z2_delta = self.z2_error * self.sigmoid(self.z2, deriv = True)\n",
    "        \n",
    "        #updating weights\n",
    "        self. W2 += self.z2.T.dot(self.output_delta)\n",
    "        self.W1 += X.T.dot(self.z2_delta)\n",
    "        \n",
    "    def train(self, X, y):\n",
    "        output = self.feedForward(x)\n",
    "        self.backward (X, y, output)"
   ]
  },
  {
   "cell_type": "code",
   "execution_count": 4,
   "metadata": {},
   "outputs": [
    {
     "name": "stdout",
     "output_type": "stream",
     "text": [
      "Loss: 0.010609738956572795\n",
      "Loss: 0.0023965572200852145\n",
      "Loss: 0.0014066110406687777\n",
      "Loss: 0.0013011546375097589\n",
      "Loss: 0.001209446977603489\n",
      "Loss: 0.0011288554898953084\n",
      "Loss: 0.001057747619619519\n",
      "Loss: 0.0009946951056866988\n",
      "Loss: 0.0009384814550070034\n",
      "Loss: 0.0008880876661609828\n"
     ]
    }
   ],
   "source": [
    "#Training\n",
    "NN=NeuralNetwork()\n",
    "for i in range(1000):\n",
    "    if i % 100 == 0:\n",
    "        print(\"Loss: \" + str(np.mean(np.square(y - NN.feedForward(x)))))\n",
    "    NN.train(x, y)"
   ]
  },
  {
   "cell_type": "code",
   "execution_count": 5,
   "metadata": {},
   "outputs": [
    {
     "name": "stdout",
     "output_type": "stream",
     "text": [
      "Input:   [[0.66666667 1.        ]\n",
      " [0.33333333 0.55555556]\n",
      " [1.         0.66666667]]\n",
      "Actual output:   [[0.92]\n",
      " [0.82]\n",
      " [0.89]]\n",
      "Loss:   0.0008426679367614841\n",
      "\n",
      "\n",
      "Predicted Output:   [[0.88246913]\n",
      " [0.85324435]\n",
      " [0.89377506]]\n"
     ]
    }
   ],
   "source": [
    "#results\n",
    "print(\"Input:   \" + str(x))\n",
    "print(\"Actual output:   \" + str(y))\n",
    "print(\"Loss:   \" + str(np.mean(np.square(y - NN.feedForward(x)))))\n",
    "print(\"\\n\")\n",
    "print(\"Predicted Output:   \" + str(NN.feedForward(x)))"
   ]
  }
 ],
 "metadata": {
  "kernelspec": {
   "display_name": "Python 3",
   "language": "python",
   "name": "python3"
  },
  "language_info": {
   "codemirror_mode": {
    "name": "ipython",
    "version": 3
   },
   "file_extension": ".py",
   "mimetype": "text/x-python",
   "name": "python",
   "nbconvert_exporter": "python",
   "pygments_lexer": "ipython3",
   "version": "3.11.6"
  },
  "orig_nbformat": 4
 },
 "nbformat": 4,
 "nbformat_minor": 2
}

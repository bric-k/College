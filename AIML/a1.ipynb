{
 "cells": [
  {
   "cell_type": "code",
   "execution_count": 1,
   "metadata": {},
   "outputs": [
    {
     "name": "stdout",
     "output_type": "stream",
     "text": [
      "Parent 1: [-10, 5, 12, -8]\n",
      "Parent 2: [3, 1, -7, 4]\n",
      "Parent 3: [9, -6, 8, -3]\n",
      "Parent 4: [-2, 14, 2, -15]\n",
      "\n",
      "Child 1: [-10, -6, -7, 4]\n",
      "Child 2: [3, 2, 12, -8]\n",
      "Child 3: [9, -8, 8, -15]\n",
      "Child 4: [13, 14, 2, -3]\n"
     ]
    }
   ],
   "source": [
    "import random\n",
    "\n",
    "def crossover(parent1, parent2):\n",
    "    \"\"\"\n",
    "    Performs crossover operation on two parent chromosomes.\n",
    "    \"\"\"\n",
    "    crossover_point = random.randint(1, len(parent1) - 1)\n",
    "    child1 = parent1[:crossover_point] + parent2[crossover_point:]\n",
    "    child2 = parent2[:crossover_point] + parent1[crossover_point:]\n",
    "    return child1, child2\n",
    "\n",
    "def mutation(chromosome):\n",
    "    \"\"\"\n",
    "    Performs mutation operation on a chromosome.\n",
    "    \"\"\"\n",
    "    mutation_point = random.randint(0, len(chromosome) - 1)\n",
    "    gene = random.randint(-15, 15)\n",
    "    chromosome[mutation_point] = gene\n",
    "    return chromosome\n",
    "\n",
    "# Generate four parent chromosomes\n",
    "parent1 = [-10, 5, 12, -8]\n",
    "parent2 = [3, 1, -7, 4]\n",
    "parent3 = [9, -6, 8, -3]\n",
    "parent4 = [-2, 14, 2, -15]\n",
    "\n",
    "# Perform crossover operation on parent chromosomes\n",
    "child1, child2 = crossover(parent1, parent2)\n",
    "child3, child4 = crossover(parent3, parent4)\n",
    "\n",
    "# Perform mutation operation on child chromosomes\n",
    "child1 = mutation(child1)\n",
    "child2 = mutation(child2)\n",
    "child3 = mutation(child3)\n",
    "child4 = mutation(child4)\n",
    "\n",
    "print(\"Parent 1:\", parent1)\n",
    "print(\"Parent 2:\", parent2)\n",
    "print(\"Parent 3:\", parent3)\n",
    "print(\"Parent 4:\", parent4)\n",
    "print(\"\\nChild 1:\", child1)\n",
    "print(\"Child 2:\", child2)\n",
    "print(\"Child 3:\", child3)\n",
    "print(\"Child 4:\", child4)"
   ]
  }
 ],
 "metadata": {
  "kernelspec": {
   "display_name": "Python 3",
   "language": "python",
   "name": "python3"
  },
  "language_info": {
   "codemirror_mode": {
    "name": "ipython",
    "version": 3
   },
   "file_extension": ".py",
   "mimetype": "text/x-python",
   "name": "python",
   "nbconvert_exporter": "python",
   "pygments_lexer": "ipython3",
   "version": "3.11.6"
  }
 },
 "nbformat": 4,
 "nbformat_minor": 2
}
